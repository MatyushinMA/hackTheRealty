{
 "cells": [
  {
   "cell_type": "code",
   "execution_count": 1,
   "metadata": {},
   "outputs": [],
   "source": [
    "from fastFM.mcmc import FMRegression\n",
    "import torch\n",
    "import torch.nn as nn\n",
    "import numpy as np\n",
    "from scipy.sparse import csc_matrix"
   ]
  },
  {
   "cell_type": "code",
   "execution_count": 23,
   "metadata": {},
   "outputs": [],
   "source": [
    "def machine_predict(x, fm):\n",
    "    selfdot = x.unsqueeze(-1)*x.unsqueeze(1)\n",
    "    vdot = torch.from_numpy(np.dot(fm.V_.T, fm.V_))\n",
    "    return fm.w0_ + torch.matmul(x, torch.from_numpy(fm.w_).float()) + torch.sum(selfdot*(1 - torch.eye(5))*vdot, dim=(1, 2))/2"
   ]
  },
  {
   "cell_type": "code",
   "execution_count": 24,
   "metadata": {},
   "outputs": [],
   "source": [
    "i = torch.LongTensor([[0, 1, 1],\n",
    "                          [2, 0, 2]])\n",
    "v = torch.FloatTensor([3, 4, 5])\n",
    "tst = torch.sparse.FloatTensor(i, v, torch.Size([2,5]))"
   ]
  },
  {
   "cell_type": "code",
   "execution_count": 25,
   "metadata": {},
   "outputs": [],
   "source": [
    "layer = nn.Linear(5, 5)\n",
    "tst = layer(tst)"
   ]
  },
  {
   "cell_type": "code",
   "execution_count": 26,
   "metadata": {},
   "outputs": [],
   "source": [
    "fm = FMRegression(n_iter=1, rank=5)\n",
    "x = np.random.random(size=(100, 5))\n",
    "y = np.random.random(100)\n",
    "_x = csc_matrix((100, 5))\n",
    "for i in range(100):\n",
    "    for j in range(5):\n",
    "        _x[i, j] = x[i, j]\n",
    "x = _x\n",
    "_ = fm.fit_predict(x, y, x)"
   ]
  },
  {
   "cell_type": "code",
   "execution_count": 27,
   "metadata": {},
   "outputs": [
    {
     "data": {
      "text/plain": [
       "(7.368779239786601,\n",
       " tensor([-0.1226, -2.9510], dtype=torch.float64, grad_fn=<AddBackward0>))"
      ]
     },
     "execution_count": 27,
     "metadata": {},
     "output_type": "execute_result"
    }
   ],
   "source": [
    "pred = fm.fit_predict(x, y, x, n_more_iter=100)\n",
    "np.sum((pred - y)**2), machine_predict(tst, fm)"
   ]
  },
  {
   "cell_type": "code",
   "execution_count": 28,
   "metadata": {},
   "outputs": [
    {
     "data": {
      "text/plain": [
       "(tensor([0.4232, 0.6188, 0.7628, 0.3722, 0.7056, 0.6206, 0.6490, 0.4985, 0.4771,\n",
       "         0.4556, 0.7238, 0.4632, 0.5353, 0.5353, 0.5902, 0.5383, 0.5886, 0.4606,\n",
       "         0.4972, 0.4620, 0.5407, 0.4739, 0.6082, 0.5260, 0.3861, 0.4129, 0.6466,\n",
       "         0.7281, 0.4765, 0.4894, 0.4801, 0.4503, 0.5691, 0.5266, 0.5293, 0.4732,\n",
       "         0.7337, 0.4944, 0.4363, 0.4391, 0.5238, 0.5737, 0.3969, 0.4805, 0.3442,\n",
       "         0.4370, 0.5231, 0.5523, 0.9653, 0.4044, 0.4220, 0.4017, 0.5035, 0.5549,\n",
       "         0.4970, 0.6948, 0.5194, 0.5477, 0.4969, 0.8023, 0.6198, 0.5772, 0.5122,\n",
       "         0.6871, 0.4950, 0.5105, 0.7558, 0.6097, 0.9255, 0.6281, 0.4268, 0.4869,\n",
       "         0.5610, 0.5996, 0.6389, 0.5326, 0.5962, 0.7034, 0.6551, 0.5365, 0.3859,\n",
       "         0.5273, 0.5432, 0.5286, 0.7789, 0.5608, 0.3925, 0.6098, 0.4508, 0.4590,\n",
       "         0.6740, 0.4490, 0.5471, 0.5691, 0.4418, 0.4404, 0.7841, 0.3022, 0.4036,\n",
       "         0.5878], dtype=torch.float64),\n",
       " array([0.42315532, 0.61875234, 0.76282874, 0.3721607 , 0.70562575,\n",
       "        0.62055784, 0.64897217, 0.49854836, 0.47705171, 0.45556172,\n",
       "        0.72375631, 0.46315201, 0.53534596, 0.53533776, 0.59024822,\n",
       "        0.53830873, 0.58861945, 0.46064079, 0.4972059 , 0.46199301,\n",
       "        0.54071668, 0.47391265, 0.6082457 , 0.52601343, 0.38606082,\n",
       "        0.41286282, 0.64655314, 0.72813263, 0.47652581, 0.48941138,\n",
       "        0.48008662, 0.45032196, 0.56907497, 0.52656572, 0.52928399,\n",
       "        0.47320835, 0.73365957, 0.49444731, 0.43631581, 0.43906382,\n",
       "        0.52382179, 0.57365972, 0.39690672, 0.48049744, 0.34418377,\n",
       "        0.43696985, 0.52313612, 0.55233392, 0.96533402, 0.4043927 ,\n",
       "        0.42203669, 0.40173091, 0.5034577 , 0.55489272, 0.49696223,\n",
       "        0.69475001, 0.51943035, 0.54769369, 0.49686868, 0.80233137,\n",
       "        0.6198321 , 0.57715404, 0.51223974, 0.68713596, 0.49495868,\n",
       "        0.51048531, 0.75581572, 0.6097206 , 0.92550383, 0.62812528,\n",
       "        0.42680377, 0.4868512 , 0.56095714, 0.59960429, 0.63894034,\n",
       "        0.53259567, 0.59623735, 0.70338786, 0.65509752, 0.53654787,\n",
       "        0.38590098, 0.52732004, 0.54317598, 0.52861424, 0.77887281,\n",
       "        0.56079212, 0.39248889, 0.60977125, 0.45077709, 0.45900248,\n",
       "        0.67401593, 0.44897805, 0.5471192 , 0.56908807, 0.44182149,\n",
       "        0.44039604, 0.7841231 , 0.30219276, 0.40364817, 0.58776908]))"
      ]
     },
     "execution_count": 28,
     "metadata": {},
     "output_type": "execute_result"
    }
   ],
   "source": [
    "machine_predict(torch.from_numpy(x.toarray()).float(), fm), fm.predict(x)"
   ]
  },
  {
   "cell_type": "code",
   "execution_count": null,
   "metadata": {},
   "outputs": [],
   "source": []
  }
 ],
 "metadata": {
  "kernelspec": {
   "display_name": "Python 3",
   "language": "python",
   "name": "python3"
  },
  "language_info": {
   "codemirror_mode": {
    "name": "ipython",
    "version": 3
   },
   "file_extension": ".py",
   "mimetype": "text/x-python",
   "name": "python",
   "nbconvert_exporter": "python",
   "pygments_lexer": "ipython3",
   "version": "3.8.5"
  }
 },
 "nbformat": 4,
 "nbformat_minor": 4
}
